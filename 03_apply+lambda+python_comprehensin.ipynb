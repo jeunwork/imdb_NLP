{
 "cells": [
  {
   "cell_type": "code",
   "execution_count": 1,
   "id": "089db757",
   "metadata": {},
   "outputs": [],
   "source": [
    "import numpy as np\n",
    "import pandas as pd"
   ]
  },
  {
   "cell_type": "markdown",
   "id": "163c3995",
   "metadata": {},
   "source": [
    "### 데이터 생성"
   ]
  },
  {
   "cell_type": "code",
   "execution_count": 2,
   "id": "c09679fc",
   "metadata": {},
   "outputs": [],
   "source": [
    "data = '''After Jesus had finished instructing his twelve disciples, he went on \n",
    "from there to teach and preach in the towns of Galilee. When John heard in prison\n",
    "what Christ was doing, he sent his disciples to ask him, \"Are you the one who was\n",
    "to come, or should we expect someone else?\" Jesus replied, \"Go back and report to \n",
    "John what you hear and see: The blind receive sight, the lame walk, those who have\n",
    "leprosyare cured, the deaf hear, the dead are raised, and the good news is \n",
    "preached to the poor. Blessed is the man who does not fall away on account of\n",
    "me.\" As John's disciples were leaving, Jesus began to speak to the crowd about \n",
    "John: \"What did you go out into the desert to see? A reed swayed by the wind? If \n",
    "not, what did you go out to see? A man dressed in fine clothes? No, those who \n",
    "wear fine clothes are in kings' palaces. Then what did you go out to see? A \n",
    "prophet? Yes, I tell you, and more than a prophet. This is the one about whom it \n",
    "is written: \" 'I will send my messenger ahead of you, who will prepare your way \n",
    "before you.' I tell you the truth: Among those born of women there has not risen \n",
    "anyone greater than John the Baptist; yet he who is least in the kingdom of \n",
    "heaven is greater than he. From the days of John the Baptist until now, the \n",
    "kingdom of heaven has been forcefully advancing, and forceful men lay hold of it. For all the \n",
    "Prophets and the Law prophesied until John. And if you are willing to accept it, he is the \n",
    "Elijah who was to come. He who has ears, let him hear. \"To what can I compare this generation? \n",
    "They are like children sitting in the marketplaces and calling out to others: \" 'We played the \n",
    "flute for you, and you did not dance; we sang a dirge and you did not mourn.' For John came \n",
    "neither eating nor drinking, and they say, 'He has a demon.' The Son of Man came eating and \n",
    "drinking, and they say, 'Here is a glutton and a drunkard, a friend of tax collectors and \n",
    "\"sinners.\" ' But wisdom is proved right by her actions.\" Then Jesus began to denounce the cities \n",
    "in which most of his miracles had been performed, because they did not repent. \"Woe to you, Koraz\n",
    "in! Woe to you, Bethsaida! If the miracles that were performed in you had been performed in Tyre \n",
    "and Sidon, they would have repented long ago in sackcloth and ashes. But I tell you, it will be \n",
    "more bearable for Tyre and Sidon on the day of judgment than for you. And you, Capernaum, will \n",
    "you be lifted up to the skies? No, you will go down to the depths. If the miracles that were \n",
    "performed in you had been performed in Sodom, it would have remained to this day. But I tell \n",
    "you that it will be more bearable for Sodom on the day of judgment than for you.\" At that time \n",
    "Jesus said, \"I praise you, Father, Lord of heaven and earth, because you have hidden these things\n",
    "from the wise and learned, and revealed them to little children. Yes, Father, for this was your \n",
    "good pleasure. \"All things have been committed to me by my Father. No one knows the Son except the Father, and no one knows the Father except the Son and \n",
    "those to whom the Son chooses to reveal him. \"Come to me, all you who are weary and burdened, and I will give you rest. Take my yoke upon you and learn from me,\n",
    "for I am gentle and humble in hear t, and you will find rest for your souls. For my yoke is easy and my burden is light.\"'''\n"
   ]
  },
  {
   "cell_type": "code",
   "execution_count": 6,
   "id": "9c35efa5",
   "metadata": {},
   "outputs": [],
   "source": [
    "data_dict = {}\n",
    "data_dict['verse'] = []\n",
    "\n",
    "for row in [x for x in data.split('\\n')]:\n",
    "    data_dict['verse'].append(row)\n",
    "    \n",
    "bible = pd.DataFrame.from_dict(data_dict)"
   ]
  },
  {
   "cell_type": "markdown",
   "id": "eab1564b",
   "metadata": {},
   "source": [
    "1. apply 함수 이해하기"
   ]
  },
  {
   "cell_type": "code",
   "execution_count": 8,
   "id": "6117e280",
   "metadata": {},
   "outputs": [
    {
     "data": {
      "text/plain": [
       "0      70\n",
       "1      81\n",
       "2      81\n",
       "3      82\n",
       "4      82\n",
       "5      75\n",
       "6      77\n",
       "7      79\n",
       "8      81\n",
       "9      78\n",
       "10     76\n",
       "11     81\n",
       "12     80\n",
       "13     81\n",
       "14     76\n",
       "15     76\n",
       "16     94\n",
       "17     91\n",
       "18     95\n",
       "19     95\n",
       "20     92\n",
       "21     92\n",
       "22     90\n",
       "23     97\n",
       "24     97\n",
       "25     97\n",
       "26     96\n",
       "27     95\n",
       "28     93\n",
       "29     93\n",
       "30     95\n",
       "31     97\n",
       "32     96\n",
       "33    154\n",
       "34    160\n",
       "35    121\n",
       "Name: verse, dtype: int64"
      ]
     },
     "execution_count": 8,
     "metadata": {},
     "output_type": "execute_result"
    }
   ],
   "source": [
    "bible['verse'].apply(len)"
   ]
  },
  {
   "cell_type": "code",
   "execution_count": 9,
   "id": "cd356e62",
   "metadata": {},
   "outputs": [
    {
     "data": {
      "text/plain": [
       "0     <class 'str'>\n",
       "1     <class 'str'>\n",
       "2     <class 'str'>\n",
       "3     <class 'str'>\n",
       "4     <class 'str'>\n",
       "5     <class 'str'>\n",
       "6     <class 'str'>\n",
       "7     <class 'str'>\n",
       "8     <class 'str'>\n",
       "9     <class 'str'>\n",
       "10    <class 'str'>\n",
       "11    <class 'str'>\n",
       "12    <class 'str'>\n",
       "13    <class 'str'>\n",
       "14    <class 'str'>\n",
       "15    <class 'str'>\n",
       "16    <class 'str'>\n",
       "17    <class 'str'>\n",
       "18    <class 'str'>\n",
       "19    <class 'str'>\n",
       "20    <class 'str'>\n",
       "21    <class 'str'>\n",
       "22    <class 'str'>\n",
       "23    <class 'str'>\n",
       "24    <class 'str'>\n",
       "25    <class 'str'>\n",
       "26    <class 'str'>\n",
       "27    <class 'str'>\n",
       "28    <class 'str'>\n",
       "29    <class 'str'>\n",
       "30    <class 'str'>\n",
       "31    <class 'str'>\n",
       "32    <class 'str'>\n",
       "33    <class 'str'>\n",
       "34    <class 'str'>\n",
       "35    <class 'str'>\n",
       "Name: verse, dtype: object"
      ]
     },
     "execution_count": 9,
     "metadata": {},
     "output_type": "execute_result"
    }
   ],
   "source": [
    "bible['verse'].apply(type)"
   ]
  },
  {
   "cell_type": "markdown",
   "id": "4c7ae798",
   "metadata": {},
   "source": [
    "2. Lambda 함수 이해하기 "
   ]
  },
  {
   "cell_type": "code",
   "execution_count": 10,
   "id": "e674d045",
   "metadata": {},
   "outputs": [
    {
     "data": {
      "text/plain": [
       "'After Jesus had finished instructing his twelve disciples, he went on '"
      ]
     },
     "execution_count": 10,
     "metadata": {},
     "output_type": "execute_result"
    }
   ],
   "source": [
    "bible['verse'][0]"
   ]
  },
  {
   "cell_type": "code",
   "execution_count": null,
   "id": "271a445c",
   "metadata": {},
   "outputs": [],
   "source": [
    "- 사용자 정의함수 활용"
   ]
  },
  {
   "cell_type": "code",
   "execution_count": 11,
   "id": "bf4d1366",
   "metadata": {
    "scrolled": false
   },
   "outputs": [
    {
     "data": {
      "text/plain": [
       "0      True\n",
       "1     False\n",
       "2     False\n",
       "3     False\n",
       "4      True\n",
       "5     False\n",
       "6     False\n",
       "7     False\n",
       "8      True\n",
       "9     False\n",
       "10    False\n",
       "11    False\n",
       "12    False\n",
       "13    False\n",
       "14    False\n",
       "15    False\n",
       "16    False\n",
       "17     True\n",
       "18     True\n",
       "19     True\n",
       "20    False\n",
       "21    False\n",
       "22    False\n",
       "23    False\n",
       "24    False\n",
       "25    False\n",
       "26    False\n",
       "27    False\n",
       "28    False\n",
       "29    False\n",
       "30    False\n",
       "31     True\n",
       "32    False\n",
       "33    False\n",
       "34    False\n",
       "35    False\n",
       "Name: verse, dtype: bool"
      ]
     },
     "execution_count": 11,
     "metadata": {},
     "output_type": "execute_result"
    }
   ],
   "source": [
    "def isUpper(input):\n",
    "    return input[0].isupper()\n",
    "\n",
    "bible['verse'].apply(isUpper)"
   ]
  },
  {
   "cell_type": "code",
   "execution_count": null,
   "id": "6daa1b97",
   "metadata": {},
   "outputs": [],
   "source": [
    "- 람다 함수 활용 : 즉석에서 사용자 정의함수 정의해서 사용할 수 있다."
   ]
  },
  {
   "cell_type": "code",
   "execution_count": 12,
   "id": "5eef136e",
   "metadata": {},
   "outputs": [
    {
     "data": {
      "text/plain": [
       "0      True\n",
       "1     False\n",
       "2     False\n",
       "3     False\n",
       "4      True\n",
       "5     False\n",
       "6     False\n",
       "7     False\n",
       "8      True\n",
       "9     False\n",
       "10    False\n",
       "11    False\n",
       "12    False\n",
       "13    False\n",
       "14    False\n",
       "15    False\n",
       "16    False\n",
       "17     True\n",
       "18     True\n",
       "19     True\n",
       "20    False\n",
       "21    False\n",
       "22    False\n",
       "23    False\n",
       "24    False\n",
       "25    False\n",
       "26    False\n",
       "27    False\n",
       "28    False\n",
       "29    False\n",
       "30    False\n",
       "31     True\n",
       "32    False\n",
       "33    False\n",
       "34    False\n",
       "35    False\n",
       "Name: verse, dtype: bool"
      ]
     },
     "execution_count": 12,
     "metadata": {},
     "output_type": "execute_result"
    }
   ],
   "source": [
    "bible['verse'].apply(lambda x: x[0].isupper())"
   ]
  },
  {
   "cell_type": "markdown",
   "id": "8a82cf9a",
   "metadata": {},
   "source": [
    "3.List Comprehension 이해하기"
   ]
  },
  {
   "cell_type": "code",
   "execution_count": null,
   "id": "c99695ac",
   "metadata": {},
   "outputs": [],
   "source": [
    "- `행 안에 대문자가 있는지 검사"
   ]
  },
  {
   "cell_type": "code",
   "execution_count": 15,
   "id": "5c843fc8",
   "metadata": {},
   "outputs": [
    {
     "data": {
      "text/plain": [
       "[70,\n",
       " 81,\n",
       " 81,\n",
       " 82,\n",
       " 82,\n",
       " 75,\n",
       " 77,\n",
       " 79,\n",
       " 81,\n",
       " 78,\n",
       " 76,\n",
       " 81,\n",
       " 80,\n",
       " 81,\n",
       " 76,\n",
       " 76,\n",
       " 94,\n",
       " 91,\n",
       " 95,\n",
       " 95,\n",
       " 92,\n",
       " 92,\n",
       " 90,\n",
       " 97,\n",
       " 97,\n",
       " 97,\n",
       " 96,\n",
       " 95,\n",
       " 93,\n",
       " 93,\n",
       " 95,\n",
       " 97,\n",
       " 96,\n",
       " 154,\n",
       " 160,\n",
       " 121]"
      ]
     },
     "execution_count": 15,
     "metadata": {},
     "output_type": "execute_result"
    }
   ],
   "source": [
    "[len(i) for i in bible['verse'] ]"
   ]
  },
  {
   "cell_type": "markdown",
   "id": "730bfd96",
   "metadata": {},
   "source": [
    "4. 연습"
   ]
  },
  {
   "cell_type": "markdown",
   "id": "a8ff6163",
   "metadata": {},
   "source": [
    "- 각 행의 대문자 갯수 세기"
   ]
  },
  {
   "cell_type": "markdown",
   "id": "ad002225",
   "metadata": {},
   "source": [
    "1. apply로 각 문장에 접근 \n",
    "2. 단어별로 쪼개고 대문자인 것 True, False로 출력(isupper)\n",
    "3. np.sum으로 갯수 세기"
   ]
  },
  {
   "cell_type": "code",
   "execution_count": 16,
   "id": "27e28b8d",
   "metadata": {
    "scrolled": true
   },
   "outputs": [
    {
     "data": {
      "text/plain": [
       "0     [A, f, t, e, r,  , J, e, s, u, s,  , h, a, d, ...\n",
       "1     [f, r, o, m,  , t, h, e, r, e,  , t, o,  , t, ...\n",
       "2     [w, h, a, t,  , C, h, r, i, s, t,  , w, a, s, ...\n",
       "3     [t, o,  , c, o, m, e, ,,  , o, r,  , s, h, o, ...\n",
       "4     [J, o, h, n,  , w, h, a, t,  , y, o, u,  , h, ...\n",
       "5     [l, e, p, r, o, s, y, a, r, e,  , c, u, r, e, ...\n",
       "6     [p, r, e, a, c, h, e, d,  , t, o,  , t, h, e, ...\n",
       "7     [m, e, ., \",  , A, s,  , J, o, h, n, ', s,  , ...\n",
       "8     [J, o, h, n, :,  , \", W, h, a, t,  , d, i, d, ...\n",
       "9     [n, o, t, ,,  , w, h, a, t,  , d, i, d,  , y, ...\n",
       "10    [w, e, a, r,  , f, i, n, e,  , c, l, o, t, h, ...\n",
       "11    [p, r, o, p, h, e, t, ?,  , Y, e, s, ,,  , I, ...\n",
       "12    [i, s,  , w, r, i, t, t, e, n, :,  , \",  , ', ...\n",
       "13    [b, e, f, o, r, e,  , y, o, u, ., ',  , I,  , ...\n",
       "14    [a, n, y, o, n, e,  , g, r, e, a, t, e, r,  , ...\n",
       "15    [h, e, a, v, e, n,  , i, s,  , g, r, e, a, t, ...\n",
       "16    [k, i, n, g, d, o, m,  , o, f,  , h, e, a, v, ...\n",
       "17    [P, r, o, p, h, e, t, s,  , a, n, d,  , t, h, ...\n",
       "18    [E, l, i, j, a, h,  , w, h, o,  , w, a, s,  , ...\n",
       "19    [T, h, e, y,  , a, r, e,  , l, i, k, e,  , c, ...\n",
       "20    [f, l, u, t, e,  , f, o, r,  , y, o, u, ,,  , ...\n",
       "21    [n, e, i, t, h, e, r,  , e, a, t, i, n, g,  , ...\n",
       "22    [d, r, i, n, k, i, n, g, ,,  , a, n, d,  , t, ...\n",
       "23    [\", s, i, n, n, e, r, s, ., \",  , ',  , B, u, ...\n",
       "24    [i, n,  , w, h, i, c, h,  , m, o, s, t,  , o, ...\n",
       "25    [i, n, !,  , W, o, e,  , t, o,  , y, o, u, ,, ...\n",
       "26    [a, n, d,  , S, i, d, o, n, ,,  , t, h, e, y, ...\n",
       "27    [m, o, r, e,  , b, e, a, r, a, b, l, e,  , f, ...\n",
       "28    [y, o, u,  , b, e,  , l, i, f, t, e, d,  , u, ...\n",
       "29    [p, e, r, f, o, r, m, e, d,  , i, n,  , y, o, ...\n",
       "30    [y, o, u,  , t, h, a, t,  , i, t,  , w, i, l, ...\n",
       "31    [J, e, s, u, s,  , s, a, i, d, ,,  , \", I,  , ...\n",
       "32    [f, r, o, m,  , t, h, e,  , w, i, s, e,  , a, ...\n",
       "33    [g, o, o, d,  , p, l, e, a, s, u, r, e, .,  , ...\n",
       "34    [t, h, o, s, e,  , t, o,  , w, h, o, m,  , t, ...\n",
       "35    [f, o, r,  , I,  , a, m,  , g, e, n, t, l, e, ...\n",
       "Name: verse, dtype: object"
      ]
     },
     "execution_count": 16,
     "metadata": {},
     "output_type": "execute_result"
    }
   ],
   "source": [
    "bible['verse'].apply(lambda x: [i for i in x ])"
   ]
  },
  {
   "cell_type": "code",
   "execution_count": 17,
   "id": "543bc296",
   "metadata": {
    "scrolled": true
   },
   "outputs": [
    {
     "data": {
      "text/plain": [
       "0     [True, False, False, False, False, False, True...\n",
       "1     [False, False, False, False, False, False, Fal...\n",
       "2     [False, False, False, False, False, True, Fals...\n",
       "3     [False, False, False, False, False, False, Fal...\n",
       "4     [True, False, False, False, False, False, Fals...\n",
       "5     [False, False, False, False, False, False, Fal...\n",
       "6     [False, False, False, False, False, False, Fal...\n",
       "7     [False, False, False, False, False, True, Fals...\n",
       "8     [True, False, False, False, False, False, Fals...\n",
       "9     [False, False, False, False, False, False, Fal...\n",
       "10    [False, False, False, False, False, False, Fal...\n",
       "11    [False, False, False, False, False, False, Fal...\n",
       "12    [False, False, False, False, False, False, Fal...\n",
       "13    [False, False, False, False, False, False, Fal...\n",
       "14    [False, False, False, False, False, False, Fal...\n",
       "15    [False, False, False, False, False, False, Fal...\n",
       "16    [False, False, False, False, False, False, Fal...\n",
       "17    [True, False, False, False, False, False, Fals...\n",
       "18    [True, False, False, False, False, False, Fals...\n",
       "19    [True, False, False, False, False, False, Fals...\n",
       "20    [False, False, False, False, False, False, Fal...\n",
       "21    [False, False, False, False, False, False, Fal...\n",
       "22    [False, False, False, False, False, False, Fal...\n",
       "23    [False, False, False, False, False, False, Fal...\n",
       "24    [False, False, False, False, False, False, Fal...\n",
       "25    [False, False, False, False, True, False, Fals...\n",
       "26    [False, False, False, False, True, False, Fals...\n",
       "27    [False, False, False, False, False, False, Fal...\n",
       "28    [False, False, False, False, False, False, Fal...\n",
       "29    [False, False, False, False, False, False, Fal...\n",
       "30    [False, False, False, False, False, False, Fal...\n",
       "31    [True, False, False, False, False, False, Fals...\n",
       "32    [False, False, False, False, False, False, Fal...\n",
       "33    [False, False, False, False, False, False, Fal...\n",
       "34    [False, False, False, False, False, False, Fal...\n",
       "35    [False, False, False, False, True, False, Fals...\n",
       "Name: verse, dtype: object"
      ]
     },
     "execution_count": 17,
     "metadata": {},
     "output_type": "execute_result"
    }
   ],
   "source": [
    "bible['verse'].apply(lambda x: [i.isupper() for i in x ])"
   ]
  },
  {
   "cell_type": "code",
   "execution_count": 18,
   "id": "e9f81810",
   "metadata": {
    "scrolled": false
   },
   "outputs": [
    {
     "data": {
      "text/plain": [
       "0     2\n",
       "1     3\n",
       "2     2\n",
       "3     2\n",
       "4     2\n",
       "5     0\n",
       "6     1\n",
       "7     3\n",
       "8     4\n",
       "9     2\n",
       "10    2\n",
       "11    3\n",
       "12    1\n",
       "13    2\n",
       "14    2\n",
       "15    3\n",
       "16    1\n",
       "17    4\n",
       "18    4\n",
       "19    2\n",
       "20    2\n",
       "21    4\n",
       "22    1\n",
       "23    3\n",
       "24    2\n",
       "25    4\n",
       "26    3\n",
       "27    4\n",
       "28    2\n",
       "29    3\n",
       "30    2\n",
       "31    4\n",
       "32    2\n",
       "33    7\n",
       "34    4\n",
       "35    2\n",
       "Name: verse, dtype: int64"
      ]
     },
     "execution_count": 18,
     "metadata": {},
     "output_type": "execute_result"
    }
   ],
   "source": [
    "bible['verse'].apply(lambda x: np.sum([i.isupper() for i in x ]))"
   ]
  }
 ],
 "metadata": {
  "kernelspec": {
   "display_name": "Python 3",
   "language": "python",
   "name": "python3"
  },
  "language_info": {
   "codemirror_mode": {
    "name": "ipython",
    "version": 3
   },
   "file_extension": ".py",
   "mimetype": "text/x-python",
   "name": "python",
   "nbconvert_exporter": "python",
   "pygments_lexer": "ipython3",
   "version": "3.7.10"
  }
 },
 "nbformat": 4,
 "nbformat_minor": 5
}
